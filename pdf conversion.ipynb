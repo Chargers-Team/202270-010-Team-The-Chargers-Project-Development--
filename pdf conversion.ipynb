{
 "cells": [
  {
   "cell_type": "code",
   "execution_count": null,
   "metadata": {},
   "outputs": [],
   "source": [
    "## pip install pytesseract\n",
    "## pip install pdf2image"
   ]
  },
  {
   "cell_type": "code",
   "execution_count": null,
   "metadata": {},
   "outputs": [],
   "source": [
    "import os\n",
    "#PDF file directory\n",
    "os.chdir('/Users/beakalabera/Desktop/tryout')"
   ]
  },
  {
   "cell_type": "code",
   "execution_count": null,
   "metadata": {},
   "outputs": [],
   "source": [
    "import pytesseract\n",
    "from pdf2image import convert_from_path\n",
    "import glob\n",
    "\n",
    "#insert pdf to be converted below. Text file will be saved on above directory\n",
    "pdfs = glob.glob(r\"kl.pdf\")\n",
    "\n",
    "for pdf_path in pdfs:\n",
    "    pages = convert_from_path(pdf_path, 500)\n",
    "\n",
    "    for pageNum,imgBlob in enumerate(pages):\n",
    "        text = pytesseract.image_to_string(imgBlob,lang='eng')\n",
    "\n",
    "        with open(f'{pdf_path[:-4]}_page{pageNum}.txt', 'w') as the_file:\n",
    "            the_file.write(text)"
   ]
  },
  {
   "cell_type": "code",
   "execution_count": null,
   "metadata": {},
   "outputs": [],
   "source": [
    "## open text converted above after doing some cleaning manually. OCR doesn't do a great job recognizing \n",
    "## dots, words after dots and also noticed it mistakes \"O\" and \"Q\"\n",
    "\n",
    "import re\n",
    "import pandas as pd\n",
    "with open(\"A320-AfterTakeoff_page0.txt\",'r') as file:\n",
    "    for line in file:\n",
    "        re.sub(line,'.','')\n",
    "        \n",
    "        new = line.replace(\".\",\"\")\n",
    "        new = new.strip().split(',')\n",
    "        print(new)"
   ]
  },
  {
   "cell_type": "code",
   "execution_count": null,
   "metadata": {},
   "outputs": [],
   "source": [
    "#Another method below."
   ]
  },
  {
   "cell_type": "code",
   "execution_count": null,
   "metadata": {},
   "outputs": [],
   "source": [
    "### If the above doesn't work.. try this converter. Works the same way but doesn't save into text file. \n",
    "\n",
    "def convert_pdf_to_img(pdf_file):\n",
    "    \"\"\"\n",
    "    @desc: this function converts a PDF into Image\n",
    "    \n",
    "    @params:\n",
    "        - pdf_file: the file to be converted\n",
    "    \n",
    "    @returns:\n",
    "        - an interable containing image format of all the pages of the PDF\n",
    "    \"\"\"\n",
    "    return convert_from_path(pdf_file)\n",
    "\n",
    "\n",
    "def convert_image_to_text(file):\n",
    "    \"\"\"\n",
    "    @desc: this function extracts text from image\n",
    "    \n",
    "    @params:\n",
    "        - file: the image file to extract the content\n",
    "    \n",
    "    @returns:\n",
    "        - the textual content of single image\n",
    "    \"\"\"\n",
    "    \n",
    "    text = image_to_string(file)\n",
    "    return text\n",
    "\n",
    "\n",
    "def get_text_from_any_pdf(pdf_file):\n",
    "    \"\"\"\n",
    "    @desc: this function is our final system combining the previous functions\n",
    "    \n",
    "    @params:\n",
    "        - file: the original PDF File\n",
    "    \n",
    "    @returns:\n",
    "        - the textual content of ALL the pages\n",
    "    \"\"\"\n",
    "    images = convert_pdf_to_img(pdf_file)\n",
    "    final_text = \"\"\n",
    "    for pg, img in enumerate(images):\n",
    "        \n",
    "        final_text += convert_image_to_text(img)\n",
    "        #print(\"Page n°{}\".format(pg))\n",
    "        #print(convert_image_to_text(img))\n",
    "    \n",
    "    return final_text"
   ]
  }
 ],
 "metadata": {
  "kernelspec": {
   "display_name": "Python 3.8.2 ('base')",
   "language": "python",
   "name": "python3"
  },
  "language_info": {
   "name": "python",
   "version": "3.8.2"
  },
  "orig_nbformat": 4,
  "vscode": {
   "interpreter": {
    "hash": "d38bae983a8daa9031ef8b6d556797cf66da8023fca7e8148bfcaf6d17ab9e23"
   }
  }
 },
 "nbformat": 4,
 "nbformat_minor": 2
}
